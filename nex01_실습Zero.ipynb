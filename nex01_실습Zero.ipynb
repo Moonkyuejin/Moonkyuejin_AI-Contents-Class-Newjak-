{
  "nbformat": 4,
  "nbformat_minor": 0,
  "metadata": {
    "colab": {
      "name": "nex01_실습Zero.ipynb",
      "provenance": [],
      "collapsed_sections": [],
      "authorship_tag": "ABX9TyN3LTKESy8xUg/x9HKhQVBz",
      "include_colab_link": true
    },
    "kernelspec": {
      "name": "python3",
      "display_name": "Python 3"
    },
    "language_info": {
      "name": "python"
    }
  },
  "cells": [
    {
      "cell_type": "markdown",
      "metadata": {
        "id": "view-in-github",
        "colab_type": "text"
      },
      "source": [
        "<a href=\"https://colab.research.google.com/github/Moonkyuejin/Moonkyuejin_AI-Contents-Class-Newjak-/blob/main/nex01_%EC%8B%A4%EC%8A%B5Zero.ipynb\" target=\"_parent\"><img src=\"https://colab.research.google.com/assets/colab-badge.svg\" alt=\"Open In Colab\"/></a>"
      ]
    },
    {
      "cell_type": "markdown",
      "source": [
        "## [Python 기초]\n",
        "#### 프린트"
      ],
      "metadata": {
        "id": "yEikWV1FFty0"
      }
    },
    {
      "cell_type": "code",
      "source": [
        "print(\"Hellow, world\")\n",
        "\n",
        "x=3\n",
        "print (\"정수 : %01d, %02d, %03d, %04d, %05d\"\n",
        "  %(x,x,x,x,x))\n",
        "\n",
        "x= 256.123\n",
        "print(\"실수 : %.0f, %.1f, %.2f\"\n",
        "%(x,x,x))\n",
        "\n",
        "x = \"Hellow, world\"\n",
        "print(\"문자열: [%s]\" %(x))"
      ],
      "metadata": {
        "colab": {
          "base_uri": "https://localhost:8080/"
        },
        "id": "QKaHrcI6Fr6D",
        "outputId": "ed7c3178-5ad3-46d2-8154-3ac0901d8270"
      },
      "execution_count": 1,
      "outputs": [
        {
          "output_type": "stream",
          "name": "stdout",
          "text": [
            "Hellow, world\n",
            "정수 : 3, 03, 003, 0003, 00003\n",
            "실수 : 256, 256.1, 256.12\n",
            "문자열: [Hellow, world]\n"
          ]
        }
      ]
    },
    {
      "cell_type": "markdown",
      "source": [
        "####반복문, 조건문"
      ],
      "metadata": {
        "id": "5m_rwRHvFwUj"
      }
    },
    {
      "cell_type": "code",
      "source": [
        "contents = [\"Regression\", \"Classification\", \"SVM\", \"Clustering\", \"Demesion reduction\", \"NN\", \"CNN\", \"AE\", \"GAN\", \"RNN\"]\n",
        "for con in contents:\n",
        "    if con in  [\"Regression\", \"Classification\", \"SVM\", \"Clustering\", \"Demesion reduction\"]:\n",
        "      print(\"%s은(는) 기계학습 내용입니다.\" %con)\n",
        "    elif con in [\"CNN\"]:\n",
        "      print(\"%s은(는) convolutional neural network 입니다.\"%con)\n",
        "    else:\n",
        "      print(\"%s은(는) 심층학습 내용입니다.\"%con)"
      ],
      "metadata": {
        "colab": {
          "base_uri": "https://localhost:8080/"
        },
        "id": "KWpnrxKEFzsc",
        "outputId": "6dac3862-28fd-4348-9541-de8580666ae4"
      },
      "execution_count": 2,
      "outputs": [
        {
          "output_type": "stream",
          "name": "stdout",
          "text": [
            "Regression은(는) 기계학습 내용입니다.\n",
            "Classification은(는) 기계학습 내용입니다.\n",
            "SVM은(는) 기계학습 내용입니다.\n",
            "Clustering은(는) 기계학습 내용입니다.\n",
            "Demesion reduction은(는) 기계학습 내용입니다.\n",
            "NN은(는) 심층학습 내용입니다.\n",
            "CNN은(는) convolutional neural network 입니다.\n",
            "AE은(는) 심층학습 내용입니다.\n",
            "GAN은(는) 심층학습 내용입니다.\n",
            "RNN은(는) 심층학습 내용입니다.\n"
          ]
        }
      ]
    },
    {
      "cell_type": "markdown",
      "source": [
        "####반복문과 인덱스"
      ],
      "metadata": {
        "id": "EElt9mAtFrQ0"
      }
    },
    {
      "cell_type": "code",
      "source": [
        "for(i,con) in enumerate(contents):\n",
        "  print(\"[%d/%d] : %s\" %(i, len(contents), con))"
      ],
      "metadata": {
        "colab": {
          "base_uri": "https://localhost:8080/"
        },
        "id": "mtsDUsTdF8o9",
        "outputId": "b0e2d23d-6d93-4726-cabc-d886a2e18e89"
      },
      "execution_count": 3,
      "outputs": [
        {
          "output_type": "stream",
          "name": "stdout",
          "text": [
            "[0/10] : Regression\n",
            "[1/10] : Classification\n",
            "[2/10] : SVM\n",
            "[3/10] : Clustering\n",
            "[4/10] : Demesion reduction\n",
            "[5/10] : NN\n",
            "[6/10] : CNN\n",
            "[7/10] : AE\n",
            "[8/10] : GAN\n",
            "[9/10] : RNN\n"
          ]
        }
      ]
    },
    {
      "cell_type": "markdown",
      "source": [
        "####함수"
      ],
      "metadata": {
        "id": "Fl_7h5w5GYrN"
      }
    },
    {
      "cell_type": "code",
      "source": [
        "def sum(a,b):\n",
        "  return a+b\n",
        "\n",
        "x = 10.1\n",
        "y = 20.3\n",
        "print(\"%.1f + %.1f = %.2f\" %(x,y,sum(x,y)))"
      ],
      "metadata": {
        "colab": {
          "base_uri": "https://localhost:8080/"
        },
        "id": "RT_TilrjGaRS",
        "outputId": "911eccb4-8fd9-41cf-e50e-f0f10352793f"
      },
      "execution_count": 11,
      "outputs": [
        {
          "output_type": "stream",
          "name": "stdout",
          "text": [
            "10.1 + 20.3 = 30.40\n"
          ]
        }
      ]
    },
    {
      "cell_type": "markdown",
      "source": [
        "####리스트"
      ],
      "metadata": {
        "id": "htypY-rvG4it"
      }
    },
    {
      "cell_type": "code",
      "source": [
        "a = []\n",
        "b=[1,2,3]\n",
        "c=[\"Hellow\", \",\", \"world\"]\n",
        "d=[1,2,3,\"x\",\"y\",\"z\"]\n",
        "x=[]\n",
        "print(x)\n",
        "\n",
        "x.append('a')\n",
        "print(x)\n",
        "\n",
        "x.append(123)\n",
        "print(x)\n",
        "\n",
        "x.append([\"a\", \"b\"])\n",
        "print(x)"
      ],
      "metadata": {
        "colab": {
          "base_uri": "https://localhost:8080/"
        },
        "id": "B6T4vDdtG56T",
        "outputId": "07d7dc3a-a341-48c9-cc41-c2b0191d0c82"
      },
      "execution_count": 15,
      "outputs": [
        {
          "output_type": "stream",
          "name": "stdout",
          "text": [
            "[]\n",
            "['a']\n",
            "['a', 123]\n",
            "['a', 123, ['a', 'b']]\n"
          ]
        }
      ]
    },
    {
      "cell_type": "markdown",
      "source": [
        "####딕셔너리(dictionary)"
      ],
      "metadata": {
        "id": "tYvyYYwWHfIf"
      }
    },
    {
      "cell_type": "code",
      "source": [
        "dic = dict()\n",
        "dic[\"name\"] = \"Kyuejin\"\n",
        "dic[\"town\"] = \"Seoul\"\n",
        "dic[\"job\"] = \"PD\"\n",
        "print(dic)"
      ],
      "metadata": {
        "colab": {
          "base_uri": "https://localhost:8080/"
        },
        "id": "YUOkYw2NHkRa",
        "outputId": "e5f1334e-2ab0-430b-fec3-31ef96e7960f"
      },
      "execution_count": 17,
      "outputs": [
        {
          "output_type": "stream",
          "name": "stdout",
          "text": [
            "{'name': 'Kyuejin', 'town': 'Seoul', 'job': 'PD'}\n"
          ]
        }
      ]
    },
    {
      "cell_type": "markdown",
      "source": [
        "클래스"
      ],
      "metadata": {
        "id": "CBrSCP-2H8N9"
      }
    },
    {
      "cell_type": "code",
      "source": [
        "class Student:\n",
        "  def __init__(self, name):\n",
        "    self.name = name\n",
        " \n",
        "  def study(self, hard = False):\n",
        "    if hard:\n",
        "      print(\"%s 학생은 열심히 공부합니다.\"%self.name)\n",
        "    else:\n",
        "      print(\"%s 학생은 공부합니다.\" %self.name)\n",
        "\n",
        "s=Student(\"Kyuejin\")\n",
        "s.study()\n",
        "s.study(hard=True)"
      ],
      "metadata": {
        "colab": {
          "base_uri": "https://localhost:8080/"
        },
        "id": "86zB7ZqkIANt",
        "outputId": "2b4dfbfd-290f-4dbc-e5c4-2fccdded7348"
      },
      "execution_count": 31,
      "outputs": [
        {
          "output_type": "stream",
          "name": "stdout",
          "text": [
            "Kyuejin 학생은 공부합니다.\n",
            "Kyuejin 학생은 열심히 공부합니다.\n"
          ]
        }
      ]
    }
  ]
}